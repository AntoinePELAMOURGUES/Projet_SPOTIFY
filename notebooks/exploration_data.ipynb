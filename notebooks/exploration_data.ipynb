{
 "cells": [
  {
   "cell_type": "markdown",
   "metadata": {},
   "source": [
    "# <ins> EXPLORATION DES DONNEES </ins>"
   ]
  },
  {
   "cell_type": "code",
   "execution_count": 2,
   "metadata": {},
   "outputs": [],
   "source": [
    "import jq\n",
    "import json\n",
    "import os\n"
   ]
  },
  {
   "cell_type": "markdown",
   "metadata": {},
   "source": [
    "### <ins> Visulatisation d'un fichier Json </ins>"
   ]
  },
  {
   "cell_type": "code",
   "execution_count": 3,
   "metadata": {},
   "outputs": [
    {
     "name": "stdout",
     "output_type": "stream",
     "text": [
      "['info', 'playlists']\n"
     ]
    }
   ],
   "source": [
    "# Localisation des données\n",
    "folder  = '/mnt/c/Users/antoi/Downloads/spotify_million_playlist_dataset/data'\n",
    "\n",
    "# Fichier que nous souhaitons lire\n",
    "file = 'mpd.slice.0-999.json'\n",
    "\n",
    "# Lien vers notre fichier\n",
    "filepath = os.path.join(folder, file)\n",
    "\n",
    "# Charger le fichier JSON\n",
    "with open(filepath, 'r') as f:\n",
    "    data = json.load(f)\n",
    "\n",
    "# Utiliser jq pour extraire les clés\n",
    "keys_result = jq.compile('keys').input(data).first()\n",
    "\n",
    "print(keys_result)"
   ]
  }
 ],
 "metadata": {
  "kernelspec": {
   "display_name": "base",
   "language": "python",
   "name": "python3"
  },
  "language_info": {
   "codemirror_mode": {
    "name": "ipython",
    "version": 3
   },
   "file_extension": ".py",
   "mimetype": "text/x-python",
   "name": "python",
   "nbconvert_exporter": "python",
   "pygments_lexer": "ipython3",
   "version": "3.12.4"
  }
 },
 "nbformat": 4,
 "nbformat_minor": 2
}
