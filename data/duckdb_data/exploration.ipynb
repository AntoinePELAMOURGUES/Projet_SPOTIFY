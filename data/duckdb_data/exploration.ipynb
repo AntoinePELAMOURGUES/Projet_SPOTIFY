{
 "cells": [
  {
   "cell_type": "code",
   "execution_count": 2,
   "metadata": {
    "vscode": {
     "languageId": "shellscript"
    }
   },
   "outputs": [],
   "source": [
    "import duckdb"
   ]
  },
  {
   "cell_type": "code",
   "execution_count": 3,
   "metadata": {
    "vscode": {
     "languageId": "shellscript"
    }
   },
   "outputs": [
    {
     "data": {
      "text/plain": [
       "┌──────────────────────┬───────────────┬────────┬─────────────┬───┬─────────────┬─────────────┬─────────────┐\n",
       "│         name         │ collaborative │  pid   │ modified_at │ … │ duration_ms │ num_artists │ description │\n",
       "│       varchar        │    varchar    │ int64  │    int64    │   │    int64    │    int64    │   varchar   │\n",
       "├──────────────────────┼───────────────┼────────┼─────────────┼───┼─────────────┼─────────────┼─────────────┤\n",
       "│ Throwbacks           │ false         │      0 │  1493424000 │ … │    11532414 │          37 │ NULL        │\n",
       "│ Awesome Playlist     │ false         │      1 │  1506556800 │ … │    11656470 │          21 │ NULL        │\n",
       "│ korean               │ false         │      2 │  1505692800 │ … │    14039958 │          31 │ NULL        │\n",
       "│ mat                  │ false         │      3 │  1501027200 │ … │    28926058 │          86 │ NULL        │\n",
       "│ 90s                  │ false         │      4 │  1401667200 │ … │     4335282 │          16 │ NULL        │\n",
       "│ Wedding              │ false         │      5 │  1430956800 │ … │    19156557 │          56 │ NULL        │\n",
       "│ I Put A Spell On You │ false         │      6 │  1477094400 │ … │     3408479 │          13 │ NULL        │\n",
       "│ 2017                 │ false         │      7 │  1509321600 │ … │    12674796 │          48 │ NULL        │\n",
       "│ BOP                  │ false         │      8 │  1508976000 │ … │     9948921 │          23 │ NULL        │\n",
       "│ old country          │ false         │      9 │  1501804800 │ … │     4297488 │          18 │ NULL        │\n",
       "│  ·                   │   ·           │      · │       ·     │ · │        ·    │           · │  ·          │\n",
       "│  ·                   │   ·           │      · │       ·     │ · │        ·    │           · │  ·          │\n",
       "│  ·                   │   ·           │      · │       ·     │ · │        ·    │           · │  ·          │\n",
       "│ 2k14                 │ false         │ 106990 │  1407369600 │ … │     7211728 │          19 │ NULL        │\n",
       "│ Country 2            │ false         │ 106991 │  1486080000 │ … │    28334181 │          59 │ NULL        │\n",
       "│ New Years Party      │ false         │ 106992 │  1483228800 │ … │    39365353 │         118 │ NULL        │\n",
       "│ Good music           │ false         │ 106993 │  1508976000 │ … │    13219692 │          45 │ NULL        │\n",
       "│ amber                │ false         │ 106994 │  1509321600 │ … │    31885031 │          73 │ NULL        │\n",
       "│ STUDY                │ false         │ 106995 │  1507075200 │ … │    11940399 │          28 │ NULL        │\n",
       "│ Christmas Music      │ false         │ 106996 │  1417651200 │ … │     9693810 │          43 │ NULL        │\n",
       "│ November             │ false         │ 106997 │  1479859200 │ … │     3820856 │          13 │ NULL        │\n",
       "│ Litty                │ false         │ 106998 │  1509235200 │ … │    19550219 │          43 │ NULL        │\n",
       "│ Summer 16'           │ false         │ 106999 │  1465776000 │ … │    17258499 │          28 │ NULL        │\n",
       "├──────────────────────┴───────────────┴────────┴─────────────┴───┴─────────────┴─────────────┴─────────────┤\n",
       "│ ? rows (>9999 rows, 20 shown)                                                        12 columns (7 shown) │\n",
       "└───────────────────────────────────────────────────────────────────────────────────────────────────────────┘"
      ]
     },
     "execution_count": 3,
     "metadata": {},
     "output_type": "execute_result"
    }
   ],
   "source": [
    "duckdb.read_parquet('playlists.parquet')"
   ]
  },
  {
   "cell_type": "code",
   "execution_count": 3,
   "metadata": {
    "vscode": {
     "languageId": "shellscript"
    }
   },
   "outputs": [
    {
     "data": {
      "text/plain": [
       "┌───────────────┬──────────────────────────────────────────────────────────────┬─────────┬─────────┬─────────┬─────────┐\n",
       "│  column_name  │                         column_type                          │  null   │   key   │ default │  extra  │\n",
       "│    varchar    │                           varchar                            │ varchar │ varchar │ varchar │ varchar │\n",
       "├───────────────┼──────────────────────────────────────────────────────────────┼─────────┼─────────┼─────────┼─────────┤\n",
       "│ name          │ VARCHAR                                                      │ YES     │ NULL    │ NULL    │ NULL    │\n",
       "│ collaborative │ VARCHAR                                                      │ YES     │ NULL    │ NULL    │ NULL    │\n",
       "│ pid           │ BIGINT                                                       │ YES     │ NULL    │ NULL    │ NULL    │\n",
       "│ modified_at   │ BIGINT                                                       │ YES     │ NULL    │ NULL    │ NULL    │\n",
       "│ num_tracks    │ BIGINT                                                       │ YES     │ NULL    │ NULL    │ NULL    │\n",
       "│ num_albums    │ BIGINT                                                       │ YES     │ NULL    │ NULL    │ NULL    │\n",
       "│ num_followers │ BIGINT                                                       │ YES     │ NULL    │ NULL    │ NULL    │\n",
       "│ tracks        │ STRUCT(pos BIGINT, artist_name VARCHAR, track_uri VARCHAR,…  │ YES     │ NULL    │ NULL    │ NULL    │\n",
       "│ num_edits     │ BIGINT                                                       │ YES     │ NULL    │ NULL    │ NULL    │\n",
       "│ duration_ms   │ BIGINT                                                       │ YES     │ NULL    │ NULL    │ NULL    │\n",
       "│ num_artists   │ BIGINT                                                       │ YES     │ NULL    │ NULL    │ NULL    │\n",
       "│ description   │ VARCHAR                                                      │ YES     │ NULL    │ NULL    │ NULL    │\n",
       "├───────────────┴──────────────────────────────────────────────────────────────┴─────────┴─────────┴─────────┴─────────┤\n",
       "│ 12 rows                                                                                                    6 columns │\n",
       "└──────────────────────────────────────────────────────────────────────────────────────────────────────────────────────┘"
      ]
     },
     "execution_count": 3,
     "metadata": {},
     "output_type": "execute_result"
    }
   ],
   "source": [
    "# informations sur le type de données\n",
    "duckdb.sql(\"DESCRIBE SELECT * FROM './playlists.parquet'\")\n"
   ]
  },
  {
   "cell_type": "code",
   "execution_count": 6,
   "metadata": {
    "vscode": {
     "languageId": "shellscript"
    }
   },
   "outputs": [
    {
     "data": {
      "text/html": [
       "<div>\n",
       "<style scoped>\n",
       "    .dataframe tbody tr th:only-of-type {\n",
       "        vertical-align: middle;\n",
       "    }\n",
       "\n",
       "    .dataframe tbody tr th {\n",
       "        vertical-align: top;\n",
       "    }\n",
       "\n",
       "    .dataframe thead th {\n",
       "        text-align: right;\n",
       "    }\n",
       "</style>\n",
       "<table border=\"1\" class=\"dataframe\">\n",
       "  <thead>\n",
       "    <tr style=\"text-align: right;\">\n",
       "      <th></th>\n",
       "      <th>column_name</th>\n",
       "      <th>column_type</th>\n",
       "      <th>min</th>\n",
       "      <th>max</th>\n",
       "      <th>approx_unique</th>\n",
       "      <th>avg</th>\n",
       "      <th>std</th>\n",
       "      <th>q25</th>\n",
       "      <th>q50</th>\n",
       "      <th>q75</th>\n",
       "      <th>count</th>\n",
       "      <th>null_percentage</th>\n",
       "    </tr>\n",
       "  </thead>\n",
       "  <tbody>\n",
       "    <tr>\n",
       "      <th>0</th>\n",
       "      <td>name</td>\n",
       "      <td>VARCHAR</td>\n",
       "      <td>(Nuevo)</td>\n",
       "      <td>🦋🦋🦋</td>\n",
       "      <td>30354</td>\n",
       "      <td>None</td>\n",
       "      <td>None</td>\n",
       "      <td>None</td>\n",
       "      <td>None</td>\n",
       "      <td>None</td>\n",
       "      <td>103808</td>\n",
       "      <td>0.00</td>\n",
       "    </tr>\n",
       "    <tr>\n",
       "      <th>1</th>\n",
       "      <td>collaborative</td>\n",
       "      <td>VARCHAR</td>\n",
       "      <td>false</td>\n",
       "      <td>true</td>\n",
       "      <td>2</td>\n",
       "      <td>None</td>\n",
       "      <td>None</td>\n",
       "      <td>None</td>\n",
       "      <td>None</td>\n",
       "      <td>None</td>\n",
       "      <td>103808</td>\n",
       "      <td>0.00</td>\n",
       "    </tr>\n",
       "    <tr>\n",
       "      <th>2</th>\n",
       "      <td>pid</td>\n",
       "      <td>BIGINT</td>\n",
       "      <td>6000</td>\n",
       "      <td>999999</td>\n",
       "      <td>103780</td>\n",
       "      <td>538916.6313193588</td>\n",
       "      <td>300504.5814002386</td>\n",
       "      <td>276456</td>\n",
       "      <td>556673</td>\n",
       "      <td>800268</td>\n",
       "      <td>103808</td>\n",
       "      <td>0.00</td>\n",
       "    </tr>\n",
       "    <tr>\n",
       "      <th>3</th>\n",
       "      <td>modified_at</td>\n",
       "      <td>BIGINT</td>\n",
       "      <td>1293753600</td>\n",
       "      <td>1509494400</td>\n",
       "      <td>1918</td>\n",
       "      <td>1476261812.8853269</td>\n",
       "      <td>36713270.55404717</td>\n",
       "      <td>1458842813</td>\n",
       "      <td>1490264294</td>\n",
       "      <td>1505485774</td>\n",
       "      <td>103808</td>\n",
       "      <td>0.00</td>\n",
       "    </tr>\n",
       "    <tr>\n",
       "      <th>4</th>\n",
       "      <td>num_tracks</td>\n",
       "      <td>BIGINT</td>\n",
       "      <td>5</td>\n",
       "      <td>250</td>\n",
       "      <td>246</td>\n",
       "      <td>66.43807799013564</td>\n",
       "      <td>53.75389859894742</td>\n",
       "      <td>26</td>\n",
       "      <td>49</td>\n",
       "      <td>92</td>\n",
       "      <td>103808</td>\n",
       "      <td>0.00</td>\n",
       "    </tr>\n",
       "    <tr>\n",
       "      <th>5</th>\n",
       "      <td>num_albums</td>\n",
       "      <td>BIGINT</td>\n",
       "      <td>2</td>\n",
       "      <td>244</td>\n",
       "      <td>236</td>\n",
       "      <td>49.62731196054254</td>\n",
       "      <td>39.95410579232352</td>\n",
       "      <td>20</td>\n",
       "      <td>37</td>\n",
       "      <td>68</td>\n",
       "      <td>103808</td>\n",
       "      <td>0.00</td>\n",
       "    </tr>\n",
       "    <tr>\n",
       "      <th>6</th>\n",
       "      <td>num_followers</td>\n",
       "      <td>BIGINT</td>\n",
       "      <td>1</td>\n",
       "      <td>6611</td>\n",
       "      <td>151</td>\n",
       "      <td>2.076843788532676</td>\n",
       "      <td>34.39343790431074</td>\n",
       "      <td>1</td>\n",
       "      <td>1</td>\n",
       "      <td>1</td>\n",
       "      <td>103808</td>\n",
       "      <td>0.00</td>\n",
       "    </tr>\n",
       "    <tr>\n",
       "      <th>7</th>\n",
       "      <td>tracks</td>\n",
       "      <td>STRUCT(pos BIGINT, artist_name VARCHAR, track_...</td>\n",
       "      <td>[{'pos': 0, 'artist_name': DRAM, 'track_uri': ...</td>\n",
       "      <td>[{'pos': 0, 'artist_name': DRAM, 'track_uri': ...</td>\n",
       "      <td>106047</td>\n",
       "      <td>None</td>\n",
       "      <td>None</td>\n",
       "      <td>None</td>\n",
       "      <td>None</td>\n",
       "      <td>None</td>\n",
       "      <td>103808</td>\n",
       "      <td>0.00</td>\n",
       "    </tr>\n",
       "    <tr>\n",
       "      <th>8</th>\n",
       "      <td>num_edits</td>\n",
       "      <td>BIGINT</td>\n",
       "      <td>2</td>\n",
       "      <td>201</td>\n",
       "      <td>183</td>\n",
       "      <td>17.623102265721332</td>\n",
       "      <td>20.666926242215997</td>\n",
       "      <td>5</td>\n",
       "      <td>10</td>\n",
       "      <td>22</td>\n",
       "      <td>103808</td>\n",
       "      <td>0.00</td>\n",
       "    </tr>\n",
       "    <tr>\n",
       "      <th>9</th>\n",
       "      <td>duration_ms</td>\n",
       "      <td>BIGINT</td>\n",
       "      <td>689632</td>\n",
       "      <td>216094210</td>\n",
       "      <td>103292</td>\n",
       "      <td>15595764.219077528</td>\n",
       "      <td>12853264.471245624</td>\n",
       "      <td>6019053</td>\n",
       "      <td>11438448</td>\n",
       "      <td>21391066</td>\n",
       "      <td>103808</td>\n",
       "      <td>0.00</td>\n",
       "    </tr>\n",
       "    <tr>\n",
       "      <th>10</th>\n",
       "      <td>num_artists</td>\n",
       "      <td>BIGINT</td>\n",
       "      <td>3</td>\n",
       "      <td>224</td>\n",
       "      <td>209</td>\n",
       "      <td>38.04428367755857</td>\n",
       "      <td>30.19817746393559</td>\n",
       "      <td>16</td>\n",
       "      <td>29</td>\n",
       "      <td>51</td>\n",
       "      <td>103808</td>\n",
       "      <td>0.00</td>\n",
       "    </tr>\n",
       "    <tr>\n",
       "      <th>11</th>\n",
       "      <td>description</td>\n",
       "      <td>VARCHAR</td>\n",
       "      <td>!! jams !!</td>\n",
       "      <td>🤘🤘🤘🤘🤘🤘🤘🤘🤘🤘🤘🤘🤘🤘🤘🤘</td>\n",
       "      <td>1922</td>\n",
       "      <td>None</td>\n",
       "      <td>None</td>\n",
       "      <td>None</td>\n",
       "      <td>None</td>\n",
       "      <td>None</td>\n",
       "      <td>103808</td>\n",
       "      <td>98.11</td>\n",
       "    </tr>\n",
       "  </tbody>\n",
       "</table>\n",
       "</div>"
      ],
      "text/plain": [
       "      column_name                                        column_type  \\\n",
       "0            name                                            VARCHAR   \n",
       "1   collaborative                                            VARCHAR   \n",
       "2             pid                                             BIGINT   \n",
       "3     modified_at                                             BIGINT   \n",
       "4      num_tracks                                             BIGINT   \n",
       "5      num_albums                                             BIGINT   \n",
       "6   num_followers                                             BIGINT   \n",
       "7          tracks  STRUCT(pos BIGINT, artist_name VARCHAR, track_...   \n",
       "8       num_edits                                             BIGINT   \n",
       "9     duration_ms                                             BIGINT   \n",
       "10    num_artists                                             BIGINT   \n",
       "11    description                                            VARCHAR   \n",
       "\n",
       "                                                  min  \\\n",
       "0                                             (Nuevo)   \n",
       "1                                               false   \n",
       "2                                                6000   \n",
       "3                                          1293753600   \n",
       "4                                                   5   \n",
       "5                                                   2   \n",
       "6                                                   1   \n",
       "7   [{'pos': 0, 'artist_name': DRAM, 'track_uri': ...   \n",
       "8                                                   2   \n",
       "9                                              689632   \n",
       "10                                                  3   \n",
       "11                                         !! jams !!   \n",
       "\n",
       "                                                  max  approx_unique  \\\n",
       "0                                                 🦋🦋🦋          30354   \n",
       "1                                                true              2   \n",
       "2                                              999999         103780   \n",
       "3                                          1509494400           1918   \n",
       "4                                                 250            246   \n",
       "5                                                 244            236   \n",
       "6                                                6611            151   \n",
       "7   [{'pos': 0, 'artist_name': DRAM, 'track_uri': ...         106047   \n",
       "8                                                 201            183   \n",
       "9                                           216094210         103292   \n",
       "10                                                224            209   \n",
       "11                                   🤘🤘🤘🤘🤘🤘🤘🤘🤘🤘🤘🤘🤘🤘🤘🤘           1922   \n",
       "\n",
       "                   avg                 std         q25         q50  \\\n",
       "0                 None                None        None        None   \n",
       "1                 None                None        None        None   \n",
       "2    538916.6313193588   300504.5814002386      276456      556673   \n",
       "3   1476261812.8853269   36713270.55404717  1458842813  1490264294   \n",
       "4    66.43807799013564   53.75389859894742          26          49   \n",
       "5    49.62731196054254   39.95410579232352          20          37   \n",
       "6    2.076843788532676   34.39343790431074           1           1   \n",
       "7                 None                None        None        None   \n",
       "8   17.623102265721332  20.666926242215997           5          10   \n",
       "9   15595764.219077528  12853264.471245624     6019053    11438448   \n",
       "10   38.04428367755857   30.19817746393559          16          29   \n",
       "11                None                None        None        None   \n",
       "\n",
       "           q75   count  null_percentage  \n",
       "0         None  103808             0.00  \n",
       "1         None  103808             0.00  \n",
       "2       800268  103808             0.00  \n",
       "3   1505485774  103808             0.00  \n",
       "4           92  103808             0.00  \n",
       "5           68  103808             0.00  \n",
       "6            1  103808             0.00  \n",
       "7         None  103808             0.00  \n",
       "8           22  103808             0.00  \n",
       "9     21391066  103808             0.00  \n",
       "10          51  103808             0.00  \n",
       "11        None  103808            98.11  "
      ]
     },
     "execution_count": 6,
     "metadata": {},
     "output_type": "execute_result"
    }
   ],
   "source": [
    "# Statistiques de notre base de données (10 %)\n",
    "stats_df = duckdb.sql(\"SUMMARIZE SELECT * FROM './playlists.parquet' USING SAMPLE 10%;\").df()\n",
    "\n",
    "stats_df.head(20)"
   ]
  },
  {
   "cell_type": "code",
   "execution_count": 9,
   "metadata": {
    "vscode": {
     "languageId": "shellscript"
    }
   },
   "outputs": [
    {
     "data": {
      "text/html": [
       "<div>\n",
       "<style scoped>\n",
       "    .dataframe tbody tr th:only-of-type {\n",
       "        vertical-align: middle;\n",
       "    }\n",
       "\n",
       "    .dataframe tbody tr th {\n",
       "        vertical-align: top;\n",
       "    }\n",
       "\n",
       "    .dataframe thead th {\n",
       "        text-align: right;\n",
       "    }\n",
       "</style>\n",
       "<table border=\"1\" class=\"dataframe\">\n",
       "  <thead>\n",
       "    <tr style=\"text-align: right;\">\n",
       "      <th></th>\n",
       "      <th>count_star()</th>\n",
       "    </tr>\n",
       "  </thead>\n",
       "  <tbody>\n",
       "    <tr>\n",
       "      <th>0</th>\n",
       "      <td>105366</td>\n",
       "    </tr>\n",
       "  </tbody>\n",
       "</table>\n",
       "</div>"
      ],
      "text/plain": [
       "   count_star()\n",
       "0        105366"
      ]
     },
     "execution_count": 9,
     "metadata": {},
     "output_type": "execute_result"
    }
   ],
   "source": [
    "# Nombre d'apparition de l'artise taylor Swift\n",
    "duckdb.execute(\"SET memory_limit = '20GB'\")\n",
    "\n",
    "result = duckdb.sql(\"WITH tracks AS (SELECT UNNEST(tracks, recursive := true) FROM 'playlists.parquet') SELECT count(*) FROM tracks WHERE artist_name ilike 'Taylor Swift' \")\n",
    "\n",
    "result.df()"
   ]
  },
  {
   "cell_type": "code",
   "execution_count": 7,
   "metadata": {
    "vscode": {
     "languageId": "shellscript"
    }
   },
   "outputs": [
    {
     "name": "stdout",
     "output_type": "stream",
     "text": [
      "Nombre d'artistes différents au sein de la base de données :  287742\n"
     ]
    }
   ],
   "source": [
    "result = duckdb.sql(\"WITH tracks AS (SELECT UNNEST(tracks, recursive := true) FROM 'playlists.parquet') SELECT DISTINCT artist_name FROM tracks\")\n",
    "\n",
    "print(\"Nombre d'artistes différents au sein de la base de données : \", len(result))"
   ]
  },
  {
   "cell_type": "code",
   "execution_count": 12,
   "metadata": {
    "vscode": {
     "languageId": "shellscript"
    }
   },
   "outputs": [
    {
     "name": "stdout",
     "output_type": "stream",
     "text": [
      "Nombre de tracks différents au sein de la base de données :  1483760\n"
     ]
    }
   ],
   "source": [
    "result = duckdb.sql(\"WITH tracks AS (SELECT UNNEST(tracks, recursive := true) FROM 'playlists.parquet' SELECT DISTINCT track_name FROM tracks\")\n",
    "\n",
    "print(\"Nombre de tracks différents au sein de la base de données : \", len(result))"
   ]
  },
  {
   "cell_type": "code",
   "execution_count": 5,
   "metadata": {
    "vscode": {
     "languageId": "shellscript"
    }
   },
   "outputs": [
    {
     "ename": "",
     "evalue": "",
     "output_type": "error",
     "traceback": [
      "\u001b[1;31mLe noyau s’est bloqué lors de l’exécution du code dans une cellule active ou une cellule précédente. \n",
      "\u001b[1;31mVeuillez vérifier le code dans la ou les cellules pour identifier une cause possible de l’échec. \n",
      "\u001b[1;31mCliquez <a href='https://aka.ms/vscodeJupyterKernelCrash'>ici</a> pour plus d’informations. \n",
      "\u001b[1;31mPour plus d’informations, consultez Jupyter <a href='command:jupyter.viewOutput'>log</a>."
     ]
    }
   ],
   "source": [
    "duckdb.execute(\"SET memory_limit = '20GB'\")\n",
    "\n",
    "tracks_df = duckdb.sql(\"WITH tracks AS (SELECT UNNEST(tracks, recursive := true) FROM 'playlists.parquet') SELECT * FROM tracks\").df()\n",
    "\n",
    "tracks_df.head()"
   ]
  },
  {
   "cell_type": "code",
   "execution_count": null,
   "metadata": {
    "vscode": {
     "languageId": "shellscript"
    }
   },
   "outputs": [],
   "source": []
  }
 ],
 "metadata": {
  "kernelspec": {
   "display_name": "spotify",
   "language": "python",
   "name": "python3"
  },
  "language_info": {
   "codemirror_mode": {
    "name": "ipython",
    "version": 3
   },
   "file_extension": ".py",
   "mimetype": "text/x-python",
   "name": "python",
   "nbconvert_exporter": "python",
   "pygments_lexer": "ipython3",
   "version": "3.12.4"
  }
 },
 "nbformat": 4,
 "nbformat_minor": 2
}
